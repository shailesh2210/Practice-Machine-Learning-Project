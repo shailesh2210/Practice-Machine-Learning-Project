{
 "cells": [
  {
   "cell_type": "code",
   "execution_count": null,
   "id": "84176fa3",
   "metadata": {},
   "outputs": [],
   "source": [
    "import numpy as np\n",
    "import pandas as pd\n",
    "import matplotlib.pyplot as plt\n",
    "import seaborn as sns\n",
    "from math import sin , cos , atan2 , sqrt , radians\n",
    "import warnings\n",
    "import folium\n",
    "\n",
    "warnings.filterwarnings(\"ignore\")\n",
    "\n",
    "from sklearn.impute import SimpleImputer\n",
    "from sklearn.preprocessing import StandardScaler\n",
    "from sklearn.preprocessing import OrdinalEncoder , OneHotEncoder\n",
    "from sklearn.pipeline import Pipeline\n",
    "from sklearn.compose import ColumnTransformer\n",
    "from sklearn.impute import KNNImputer\n",
    "from sklearn.model_selection import train_test_split"
   ]
  },
  {
   "cell_type": "code",
   "execution_count": null,
   "id": "75237ea2",
   "metadata": {},
   "outputs": [],
   "source": [
    "data = pd.read_csv(\"Data/finalTrain.csv\")"
   ]
  },
  {
   "cell_type": "code",
   "execution_count": null,
   "id": "a2e8e040",
   "metadata": {},
   "outputs": [],
   "source": [
    "data.head()"
   ]
  },
  {
   "cell_type": "code",
   "execution_count": null,
   "id": "9527a9aa",
   "metadata": {},
   "outputs": [],
   "source": [
    "data.shape"
   ]
  },
  {
   "cell_type": "code",
   "execution_count": null,
   "id": "c95a77e5",
   "metadata": {},
   "outputs": [],
   "source": [
    "data.columns"
   ]
  },
  {
   "cell_type": "code",
   "execution_count": null,
   "id": "6313657a",
   "metadata": {},
   "outputs": [],
   "source": [
    "data.info()"
   ]
  },
  {
   "cell_type": "code",
   "execution_count": null,
   "id": "090e8547",
   "metadata": {},
   "outputs": [],
   "source": [
    "data.isnull().sum()"
   ]
  },
  {
   "cell_type": "code",
   "execution_count": null,
   "id": "7e3b12fc",
   "metadata": {},
   "outputs": [],
   "source": [
    "data.describe()"
   ]
  },
  {
   "cell_type": "code",
   "execution_count": null,
   "id": "47156de8",
   "metadata": {
    "scrolled": false
   },
   "outputs": [],
   "source": [
    "for i in data.columns:\n",
    "    print(i, \":\", data[i].nunique())\n",
    "    if (data[i].nunique() < 8):\n",
    "        print(\"          \" , data[i].unique())\n",
    "    else:\n",
    "        pass"
   ]
  },
  {
   "cell_type": "code",
   "execution_count": null,
   "id": "f530bdf8",
   "metadata": {},
   "outputs": [],
   "source": [
    "# lets create some features with existing features\n",
    "\n",
    "features = []\n",
    "dtype = []\n",
    "count = []\n",
    "unique = []\n",
    "missing = []\n",
    "missing_perc = []\n",
    "\n",
    "for column in data.columns:\n",
    "    features.append(column)\n",
    "    dtype.append(data[column].dtypes)\n",
    "    count.append(len(data[column]))\n",
    "    unique.append(data[column].nunique())\n",
    "    missing.append(data[column].isnull().sum())\n",
    "    missing_perc.append(data[column].isnull().sum() / data.shape[0] *100)\n",
    "    \n",
    "dataframe = pd.DataFrame({\n",
    "    \"features\":features,\n",
    "    \"dtype\":dtype,\n",
    "    \"count\":count,\n",
    "    \"unique\":unique,\n",
    "    \"missing\":missing,\n",
    "    \"missing_perc\":missing_perc\n",
    "})\n",
    "dataframe.set_index(\"features\")"
   ]
  },
  {
   "cell_type": "code",
   "execution_count": null,
   "id": "8d7f37b7",
   "metadata": {},
   "outputs": [],
   "source": [
    "# Dropping the id column\n",
    "data.drop(\"ID\", axis=1 , inplace=True)"
   ]
  },
  {
   "cell_type": "code",
   "execution_count": null,
   "id": "36902ecf",
   "metadata": {},
   "outputs": [],
   "source": [
    "# convert order date colum from object to datetime\n",
    "data[\"Order_Date\"] = pd.to_datetime(data[\"Order_Date\"])"
   ]
  },
  {
   "cell_type": "code",
   "execution_count": null,
   "id": "1e0b267c",
   "metadata": {},
   "outputs": [],
   "source": [
    "data[\"Order_Date\"]"
   ]
  },
  {
   "cell_type": "code",
   "execution_count": null,
   "id": "e9202aa8",
   "metadata": {},
   "outputs": [],
   "source": [
    "data[\"year\"] = data[\"Order_Date\"].dt.year\n",
    "data[\"month\"] = data[\"Order_Date\"].dt.month\n",
    "data[\"day\"] = data[\"Order_Date\"].dt.day"
   ]
  },
  {
   "cell_type": "code",
   "execution_count": null,
   "id": "d6c9198f",
   "metadata": {},
   "outputs": [],
   "source": [
    "data.head()"
   ]
  },
  {
   "cell_type": "code",
   "execution_count": null,
   "id": "1951846a",
   "metadata": {},
   "outputs": [],
   "source": [
    "data.drop(\"Order_Date\", axis=1 , inplace=True)"
   ]
  },
  {
   "cell_type": "code",
   "execution_count": null,
   "id": "83d5a6e7",
   "metadata": {},
   "outputs": [],
   "source": [
    "data.columns"
   ]
  },
  {
   "cell_type": "code",
   "execution_count": null,
   "id": "d0abdab1",
   "metadata": {},
   "outputs": [],
   "source": [
    "data.isnull().sum()"
   ]
  },
  {
   "cell_type": "code",
   "execution_count": null,
   "id": "0f502448",
   "metadata": {},
   "outputs": [],
   "source": [
    "data.dropna(subset= [\"Time_Orderd\"], inplace=True)"
   ]
  },
  {
   "cell_type": "code",
   "execution_count": null,
   "id": "fb1401e3",
   "metadata": {},
   "outputs": [],
   "source": [
    "data[\"Time_Orderd\"].sample(10)"
   ]
  },
  {
   "cell_type": "code",
   "execution_count": null,
   "id": "663e1360",
   "metadata": {},
   "outputs": [],
   "source": []
  }
 ],
 "metadata": {
  "kernelspec": {
   "display_name": "Python 3",
   "language": "python",
   "name": "python3"
  },
  "language_info": {
   "codemirror_mode": {
    "name": "ipython",
    "version": 3
   },
   "file_extension": ".py",
   "mimetype": "text/x-python",
   "name": "python",
   "nbconvert_exporter": "python",
   "pygments_lexer": "ipython3",
   "version": "3.8.8"
  }
 },
 "nbformat": 4,
 "nbformat_minor": 5
}
